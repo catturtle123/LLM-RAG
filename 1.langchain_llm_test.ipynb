{
 "cells": [
  {
   "cell_type": "code",
   "execution_count": null,
   "id": "431dc0e0",
   "metadata": {},
   "outputs": [
    {
     "data": {
      "text/plain": [
       "True"
      ]
     },
     "execution_count": 2,
     "metadata": {},
     "output_type": "execute_result"
    }
   ],
   "source": [
    "from dotenv import load_dotenv\n",
    "\n",
    "load_dotenv()"
   ]
  },
  {
   "cell_type": "code",
   "execution_count": null,
   "id": "0c329161",
   "metadata": {},
   "outputs": [],
   "source": [
    "from langchain_openai import ChatOpenAI\n",
    "\n",
    "llm = ChatOpenAI()"
   ]
  },
  {
   "cell_type": "code",
   "execution_count": 10,
   "id": "5f5fac5f",
   "metadata": {},
   "outputs": [],
   "source": [
    "ai_message = llm.invoke(\"오늘 저녁 메뉴 추천해줘 간단하게 배달로 할 수 있는 거로\")"
   ]
  },
  {
   "cell_type": "code",
   "execution_count": 11,
   "id": "3b072a6d",
   "metadata": {},
   "outputs": [
    {
     "name": "stdout",
     "output_type": "stream",
     "text": [
      "물결치킨, 볶음밥, 탕수육, 짜장면, 김밥, 피자, 치킨텐더, 샐러드, 샌드위치, 떡볶이, 순대국, 닭갈비, 쫄면, 우동, 라면, 감자탕, 국수, 스파게티, 삼겹살, 두부김치, 잡채, 우육탕, 떡국, 순두부찌개, 해물찜, 갈비찜, 부대찌개, 부추전, 파전, 떡갈비, 해물볶음면, 불고기, 쌀국수, 볶음우동, 짬뽕, 양장피, 맨두, 깍두기고기전골, 살살치킨, 언양식돼지국밥, 등심돈까스, 김치찌개, 생선구이, 나시고랭, 해물뚝배기짬뽕, 토마토베이컨스파게티, 버섯리조또, 새우튀김우동, 토마토츄러스파게티, 쌀국수세트, 양장피세트, 해장씨푸드세트, 냉모밀세트, 탕스육덮밥, 짜장밥, 볶음밥, 야채튀김우동, 크림소스순살치킨, 함박스테이크, 맺밥, 꿔바로우, 닭강정, 라조기, 로제파스타, 쉬림프퐁듀파스타, 닭봉구이, 해쉬브라운, 스크램블에그, 아몬드윙, 고르곤졸라피자, 쉬림프크림파스타, 파스타세트, 불고기덮밥세트, 마파두부, 비빔냉면, 닭가슴살샐러드, 파니니, 규카츠카레, 버섯리조또세트, 떡카스테라세트, 피자세트, 닭강정세트, 듬뿍항아리탕, 해물부탕, 뼈해장국, 쇠고기알탕, 생선칼국수, 버섯콩나물탕, 가지고추장탕, 미나리닭볶음탕, 꽃게나물탕, 라면맛탕, 냉면맛탕, 빠에야탕, 떡갈비탕, 텐동, 육개장, 순두부찌개, 수제버섯두부, 두부김치전골, 오징어볶음탕, 제육국밥, 국수, 돈까스, 김치전골, 뼈해장국, 생선구이, 고추튀김, 야채순살치킨, 돼지갈비찜, 소떡소떡, 버섯닭고기볶음, 오삼불고기, 콩나물, 명이나물, 해물짬뽕, 육회, 딤섬, 하림의통닭, 컵밥, 왕구이, 엽기돼지고기, 차돌박이, 매운탕, 삼계탕, 닭갈비, 계란찜, 마늘대파떡갈비, 갈비찜, 양파링, 닭껍데기, 오이소박이, 야채전, 해물죽, 미역국, 물냉면, 육개장, 계란국, 수제비, 볶음밥세트, 돈가스세트, 돌솥비빔밥세트, 양념게튀기세트, 닭갈비세트, 양장피미역국세트, 육회세트 등이 있습니다.\n"
     ]
    }
   ],
   "source": [
    "print(ai_message.content)"
   ]
  }
 ],
 "metadata": {
  "kernelspec": {
   "display_name": ".venv (3.13.2)",
   "language": "python",
   "name": "python3"
  },
  "language_info": {
   "codemirror_mode": {
    "name": "ipython",
    "version": 3
   },
   "file_extension": ".py",
   "mimetype": "text/x-python",
   "name": "python",
   "nbconvert_exporter": "python",
   "pygments_lexer": "ipython3",
   "version": "3.13.2"
  }
 },
 "nbformat": 4,
 "nbformat_minor": 5
}
