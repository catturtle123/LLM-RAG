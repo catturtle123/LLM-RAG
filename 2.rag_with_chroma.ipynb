{
 "cells": [
  {
   "cell_type": "markdown",
   "id": "a65c29ed",
   "metadata": {},
   "source": [
    "1. 문서의 내용을 읽는다\n",
    "2. 문서를 쪼갠다\n",
    "    - 토큰수 초과로 답변을 생성하지 못할 수 있고\n",
    "    - 문서가 길면 답변 생성이 오래 걸림\n",
    "3. 임베딩 -> 백터 데이터베이스에 저장\n",
    "4. 질문이 있을 때, 백터 데이터베이스에 유사도 검색\n",
    "5. 유사도 검색으로 가져온 문서를 LLM에 질문과 같이 전달"
   ]
  },
  {
   "cell_type": "code",
   "execution_count": 2,
   "id": "c1544756",
   "metadata": {},
   "outputs": [],
   "source": [
    "from langchain_community.document_loaders import Docx2txtLoader\n",
    "from langchain_text_splitters import RecursiveCharacterTextSplitter\n",
    "\n",
    "text_splitter = RecursiveCharacterTextSplitter(\n",
    "    chunk_size=1500,\n",
    "    chunk_overlap=200,\n",
    ")\n",
    "\n",
    "loader = Docx2txtLoader('./tax.docx')\n",
    "document_list = loader.load_and_split(text_splitter=text_splitter)"
   ]
  },
  {
   "cell_type": "code",
   "execution_count": 3,
   "id": "0f5aa316",
   "metadata": {},
   "outputs": [],
   "source": [
    "from dotenv import load_dotenv\n",
    "from langchain_openai import OpenAIEmbeddings\n",
    "\n",
    "load_dotenv\n",
    "\n",
    "embedding = OpenAIEmbeddings(model='text-embedding-3-large')"
   ]
  },
  {
   "cell_type": "code",
   "execution_count": 15,
   "id": "e0b48510",
   "metadata": {},
   "outputs": [],
   "source": [
    "from langchain_chroma import Chroma\n",
    "\n",
    "# database = Chroma.from_documents(documents=document_list, embedding=embedding, persist_directory=\"./chroma\", collection_name='chroma_tax')\n",
    "database = Chroma(embedding_function=embedding, persist_directory='./chroma', collection_name='chroma_tax')"
   ]
  },
  {
   "cell_type": "code",
   "execution_count": 17,
   "id": "2f094d1d",
   "metadata": {},
   "outputs": [],
   "source": [
    "query = \"5000만원인 세금 알려줘\"\n",
    "retreived_docs = database.similarity_search(query)"
   ]
  },
  {
   "cell_type": "code",
   "execution_count": 7,
   "id": "6cb1f679",
   "metadata": {},
   "outputs": [],
   "source": [
    "from langchain_openai import ChatOpenAI\n",
    "\n",
    "llm = ChatOpenAI(model='gpt-4o')\n",
    "\n",
    "prompt = f\"\"\"[Identity]\n",
    "- 당신은 최고의 한국 소득세 전문가 입니다\n",
    "- [Context]를 참고해서 사용자의 질문에 답변해주세요\n",
    "\n",
    "[Context]\n",
    "{retreived_docs}\n",
    "\n",
    "Question: {query}\n",
    "\"\"\"\n",
    "\n",
    "ai_message = llm.invoke(prompt)"
   ]
  },
  {
   "cell_type": "code",
   "execution_count": 8,
   "id": "d1683495",
   "metadata": {},
   "outputs": [
    {
     "name": "stdout",
     "output_type": "stream",
     "text": [
      "content='귀하의 질문은 세금과 관련된 금액이나 상황을 구체적으로 설명하지 않기 때문에 정확한 답변을 제공하기 어렵습니다. 일반적으로 한국 소득세를 계산하려면 소득 유형(예: 근로소득, 사업소득, 기타소득 등), 공제 항목(예: 기부금, 보험료 등), 그리고 소득세율을 포함한 다양한 정보가 필요합니다.\\n\\n5000만원의 소득세 금액을 알려달라는 요청으로 이해하면, 이는 과세표준에 따라 다르며, 공제 항목 및 세율에 따라 달라질 수 있습니다. 예를 들어, 종합소득세율은 과세표준에 따라 6%에서 45%까지 적용되며, 기본공제 및 추가공제를 통해 과세표준이 달라질 수 있습니다.\\n\\n보다 구체적인 답변을 원하시면 소득의 유형, 과세표준, 적용되는 공제 등을 포함하여 추가 정보를 제공해 주시기 바랍니다. 그러면 보다 정확한 정보를 제공해드리도록 하겠습니다.' additional_kwargs={'refusal': None} response_metadata={'token_usage': {'completion_tokens': 234, 'prompt_tokens': 4152, 'total_tokens': 4386, 'completion_tokens_details': {'accepted_prediction_tokens': 0, 'audio_tokens': 0, 'reasoning_tokens': 0, 'rejected_prediction_tokens': 0}, 'prompt_tokens_details': {'audio_tokens': 0, 'cached_tokens': 0}}, 'model_name': 'gpt-4o-2024-08-06', 'system_fingerprint': 'fp_a288987b44', 'id': 'chatcmpl-BzdO8FpKAQMQ4VZc5rOFtvqORzTBs', 'service_tier': 'default', 'finish_reason': 'stop', 'logprobs': None} id='run--3ebc83a1-ae38-4d23-a97e-46ebfbdfc800-0' usage_metadata={'input_tokens': 4152, 'output_tokens': 234, 'total_tokens': 4386, 'input_token_details': {'audio': 0, 'cache_read': 0}, 'output_token_details': {'audio': 0, 'reasoning': 0}}\n"
     ]
    }
   ],
   "source": [
    "print(ai_message)"
   ]
  },
  {
   "cell_type": "code",
   "execution_count": 10,
   "id": "d058e136",
   "metadata": {},
   "outputs": [],
   "source": [
    "from langchain_core.prompts import ChatPromptTemplate\n",
    "from langchain.chains import RetrievalQA\n",
    "\n",
    "rag_prompt = ChatPromptTemplate.from_messages([\n",
    "    ('human', '''You are an assistant for question-answering tasks. Use the following pieces of retrieved context to answer the question. If you don't know the answer, just say that you don't know. Use three sentences maximum and keep the answer concise.\n",
    "                Question: {question} \n",
    "                Context: {context} \n",
    "                Answer:''')\n",
    "])\n",
    "\n",
    "qa_chain = RetrievalQA.from_chain_type(\n",
    "    llm=llm,\n",
    "    retriever=database.as_retriever(),\n",
    "    chain_type_kwargs={\"prompt\": rag_prompt}\n",
    ")"
   ]
  },
  {
   "cell_type": "code",
   "execution_count": 11,
   "id": "d8929869",
   "metadata": {},
   "outputs": [
    {
     "name": "stderr",
     "output_type": "stream",
     "text": [
      "/var/folders/jh/2xkmnd7x5w5_dpbfyzb8y1bw0000gn/T/ipykernel_7812/3455095564.py:1: LangChainDeprecationWarning: The method `Chain.__call__` was deprecated in langchain 0.1.0 and will be removed in 1.0. Use :meth:`~invoke` instead.\n",
      "  ai_message = qa_chain({\"query\": query})\n"
     ]
    }
   ],
   "source": [
    "ai_message = qa_chain({\"query\": query})"
   ]
  },
  {
   "cell_type": "code",
   "execution_count": 12,
   "id": "b0a27884",
   "metadata": {},
   "outputs": [
    {
     "name": "stdout",
     "output_type": "stream",
     "text": [
      "{'query': '5000만원인 세금 알려줘', 'result': '죄송합니다. 제공된 문맥에서는 5000만원의 세금에 대한 정보를 찾을 수 없습니다. 자세한 세금 계산은 세무 전문가에게 문의하시기 바랍니다.'}\n"
     ]
    }
   ],
   "source": [
    "print(ai_message)"
   ]
  }
 ],
 "metadata": {
  "kernelspec": {
   "display_name": ".venv (3.13.2)",
   "language": "python",
   "name": "python3"
  },
  "language_info": {
   "codemirror_mode": {
    "name": "ipython",
    "version": 3
   },
   "file_extension": ".py",
   "mimetype": "text/x-python",
   "name": "python",
   "nbconvert_exporter": "python",
   "pygments_lexer": "ipython3",
   "version": "3.13.2"
  }
 },
 "nbformat": 4,
 "nbformat_minor": 5
}
