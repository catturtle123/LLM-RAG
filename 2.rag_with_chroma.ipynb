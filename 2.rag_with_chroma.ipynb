{
 "cells": [
  {
   "cell_type": "markdown",
   "id": "a65c29ed",
   "metadata": {},
   "source": [
    "1. 문서의 내용을 읽는다\n",
    "2. 문서를 쪼갠다\n",
    "    - 토큰수 초과로 답변을 생성하지 못할 수 있고\n",
    "    - 문서가 길면 답변 생성이 오래 걸림\n",
    "3. 임베딩 -> 백터 데이터베이스에 저장\n",
    "4. 질문이 있을 때, 백터 데이터베이스에 유사도 검색\n",
    "5. 유사도 검색으로 가져온 문서를 LLM에 질문과 같이 전달"
   ]
  },
  {
   "cell_type": "code",
   "execution_count": 2,
   "id": "c1544756",
   "metadata": {},
   "outputs": [],
   "source": [
    "from langchain_community.document_loaders import Docx2txtLoader\n",
    "from langchain_text_splitters import RecursiveCharacterTextSplitter\n",
    "\n",
    "text_splitter = RecursiveCharacterTextSplitter(\n",
    "    chunk_size=1500,\n",
    "    chunk_overlap=200,\n",
    ")\n",
    "\n",
    "loader = Docx2txtLoader('./tax.docx')\n",
    "document_list = loader.load_and_split(text_splitter=text_splitter)"
   ]
  },
  {
   "cell_type": "code",
   "execution_count": 3,
   "id": "0f5aa316",
   "metadata": {},
   "outputs": [],
   "source": [
    "from dotenv import load_dotenv\n",
    "from langchain_openai import OpenAIEmbeddings\n",
    "\n",
    "load_dotenv\n",
    "\n",
    "embedding = OpenAIEmbeddings(model='text-embedding-3-large')"
   ]
  },
  {
   "cell_type": "code",
   "execution_count": 15,
   "id": "e0b48510",
   "metadata": {},
   "outputs": [],
   "source": [
    "from langchain_chroma import Chroma\n",
    "\n",
    "# database = Chroma.from_documents(documents=document_list, embedding=embedding, persist_directory=\"./chroma\", collection_name='chroma_tax')\n",
    "database = Chroma(embedding_function=embedding, persist_directory='./chroma', collection_name='chroma_tax')"
   ]
  },
  {
   "cell_type": "code",
   "execution_count": null,
   "id": "2f094d1d",
   "metadata": {},
   "outputs": [
    {
     "data": {
      "text/plain": [
       "[Document(id='b5d3d5f1-61ed-44ed-b91d-be7050ab85a0', metadata={'source': './tax.docx'}, page_content='④ 관할세무서장 또는 지방국세청장은 주소ㆍ거소 또는 사업장의 이동이 빈번하다고 인정되는 지역의 납세의무가 있는 자에 대해서는 제1항과 제2항을 준용하여 대통령령으로 정하는 바에 따라 수시부과할 수 있다.\\n\\n⑤ 수시부과 절차와 그 밖에 필요한 사항은 대통령령으로 정한다.\\n\\n[전문개정 2009. 12. 31.]\\n\\n\\n\\n제83조(과세표준과 세액의 통지) 납세지 관할 세무서장 또는 지방국세청장은 제80조에 따라 거주자의 과세표준과 세액을 결정 또는 경정한 경우에는 그 내용을 해당 거주자 또는 상속인에게 대통령령으로 정하는 바에 따라 서면으로 통지하여야 한다. 다만, 제42조에 따라 과세표준과 세액의 결정 또는 경정을 한 경우에는 지체 없이 통지하여야 한다.\\n\\n[전문개정 2009. 12. 31.]\\n\\n\\n\\n제84조(기타소득의 과세최저한) 기타소득이 다음 각 호의 어느 하나에 해당하면 그 소득에 대한 소득세를 과세하지 아니한다. <개정 2014. 12. 23., 2015. 12. 15., 2022. 12. 31.>\\n\\n1. 제21조제1항제4호에 따른 환급금으로서 건별로 승마투표권, 승자투표권, 소싸움경기투표권, 체육진흥투표권의 권면에 표시된 금액의 합계액이 10만원 이하이고 다음 각 목의 어느 하나에 해당하는 경우\\n\\n가. 적중한 개별투표당 환급금이 10만원 이하인 경우\\n\\n나. 단위투표금액당 환급금이 단위투표금액의 100배 이하이면서 적중한 개별투표당 환급금이 200만원 이하인 경우\\n\\n2. 제14조제3항제8호라목에 따른 복권 당첨금(복권당첨금을 복권 및 복권 기금법령에 따라 분할하여 지급받는 경우에는 분할하여 지급받는 금액의 합계액을 말한다) 또는 제21조제1항제14호에 따른 당첨금품등이 건별로 200만원 이하인 경우\\n\\n3. 그 밖의 기타소득금액(제21조제1항제21호의 기타소득금액은 제외한다)이 건별로 5만원 이하인 경우\\n\\n[전문개정 2009. 12. 31.]\\n\\n\\n\\n제84조(기타소득의 과세최저한) 기타소득이 다음 각 호의 어느 하나에 해당하면 그 소득에 대한 소득세를 과세하지 아니한다. <개정 2014. 12. 23., 2015. 12. 15., 2020. 12. 29., 2022. 12. 31.>\\n\\n1. 제21조제1항제4호에 따른 환급금으로서 건별로 승마투표권, 승자투표권, 소싸움경기투표권, 체육진흥투표권의 권면에 표시된 금액의 합계액이 10만원 이하이고 다음 각 목의 어느 하나에 해당하는 경우\\n\\n가. 적중한 개별투표당 환급금이 10만원 이하인 경우\\n\\n나. 단위투표금액당 환급금이 단위투표금액의 100배 이하이면서 적중한 개별투표당 환급금이 200만원 이하인 경우\\n\\n2. 제14조제3항제8호라목에 따른 복권 당첨금(복권당첨금을 복권 및 복권 기금법령에 따라 분할하여 지급받는 경우에는 분할하여 지급받는 금액의 합계액을 말한다) 또는 제21조제1항제14호에 따른 당첨금품등이 건별로 200만원 이하인 경우\\n\\n3. 해당 과세기간의 가상자산소득금액이 250만원 이하인 경우'),\n",
       " Document(id='bc7ac9ce-c1c6-4343-b303-2f98b9413adb', metadata={'source': './tax.docx'}, page_content='[전문개정 2009. 12. 31.]\\n\\n\\n\\n제10조(납세지의 변경신고) 거주자나 비거주자는 제6조부터 제9조까지의 규정에 따른 납세지가 변경된 경우 변경된 날부터 15일 이내에 대통령령으로 정하는 바에 따라 그 변경 후의 납세지 관할 세무서장에게 신고하여야 한다.\\n\\n[전문개정 2009. 12. 31.]\\n\\n\\n\\n제11조(과세 관할) 소득세는 제6조부터 제10조까지의 규정에 따른 납세지를 관할하는 세무서장 또는 지방국세청장이 과세한다.\\n\\n[전문개정 2009. 12. 31.]\\n\\n\\n\\n제2장 거주자의 종합소득 및 퇴직소득에 대한 납세의무 <개정 2009. 12. 31.>\\n\\n\\n\\n제1절 비과세 <개정 2009. 12. 31.>\\n\\n\\n\\n제12조(비과세소득) 다음 각 호의 소득에 대해서는 소득세를 과세하지 아니한다. <개정 2010. 12. 27., 2011. 7. 25., 2011. 9. 15., 2012. 2. 1., 2013. 1. 1., 2013. 3. 22., 2014. 1. 1., 2014. 3. 18., 2014. 12. 23., 2015. 12. 15., 2016. 12. 20., 2018. 3. 20., 2018. 12. 31., 2019. 12. 10., 2019. 12. 31., 2020. 6. 9., 2020. 12. 29., 2022. 8. 12., 2022. 12. 31., 2023. 8. 8., 2023. 12. 31., 2024. 12. 31.>\\n\\n1. 「공익신탁법」에 따른 공익신탁의 이익\\n\\n2. 사업소득 중 다음 각 목의 어느 하나에 해당하는 소득\\n\\n가. 논ㆍ밭을 작물 생산에 이용하게 함으로써 발생하는 소득\\n\\n나. 1개의 주택을 소유하는 자의 주택임대소득(제99조에 따른 기준시가가 12억원을 초과하는 주택 및 국외에 소재하는 주택의 임대소득은 제외한다) 또는 해당 과세기간에 대통령령으로 정하는 총수입금액의 합계액이 2천만원 이하인 자의 주택임대소득(2018년 12월 31일 이전에 끝나는 과세기간까지 발생하는 소득으로 한정한다). 이 경우 주택 수의 계산 및 주택임대소득의 산정 등 필요한 사항은 대통령령으로 정한다.\\n\\n다. 대통령령으로 정하는 농어가부업소득\\n\\n라. 대통령령으로 정하는 전통주의 제조에서 발생하는 소득\\n\\n마. 조림기간 5년 이상인 임지(林地)의 임목(林木)의 벌채 또는 양도로 발생하는 소득으로서 연 600만원 이하의 금액. 이 경우 조림기간 및 세액의 계산 등 필요한 사항은 대통령령으로 정한다.\\n\\n바. 대통령령으로 정하는 작물재배업에서 발생하는 소득\\n\\n사. 대통령령으로 정하는 어로어업 또는 양식어업에서 발생하는 소득\\n\\n3. 근로소득과 퇴직소득 중 다음 각 목의 어느 하나에 해당하는 소득\\n\\n가. 대통령령으로 정하는 복무 중인 병(兵)이 받는 급여\\n\\n나. 법률에 따라 동원된 사람이 그 동원 직장에서 받는 급여'),\n",
       " Document(id='a02d9591-3098-43f6-b32b-7be43b088d28', metadata={'source': './tax.docx'}, page_content='바. 「문화유산의 보존 및 활용에 관한 법률」에 따라 국가지정문화유산으로 지정된 서화ㆍ골동품의 양도로 발생하는 소득\\n\\n사. 서화ㆍ골동품을 박물관 또는 미술관에 양도함으로써 발생하는 소득\\n\\n아. 제21조제1항제26호에 따른 종교인소득 중 다음의 어느 하나에 해당하는 소득\\n\\n\\u3000\\u3000\\u3000\\u30001) 「통계법」 제22조에 따라 통계청장이 고시하는 한국표준직업분류에 따른 종교관련종사자(이하 “종교관련종사자”라 한다)가 받는 대통령령으로 정하는 학자금\\n\\n\\u3000\\u3000\\u3000\\u30002) 종교관련종사자가 받는 대통령령으로 정하는 식사 또는 식사대\\n\\n\\u3000\\u3000\\u3000\\u30003) 종교관련종사자가 받는 대통령령으로 정하는 실비변상적 성질의 지급액\\n\\n\\u3000\\u3000\\u3000\\u30004) 종교관련종사자 또는 그 배우자의 출산이나 6세 이하(해당 과세기간 개시일을 기준으로 판단한다) 자녀의 보육과 관련하여 종교단체로부터 받는 금액으로서 월 20만원 이내의 금액\\n\\n\\u3000\\u3000\\u3000\\u30005) 종교관련종사자가 기획재정부령으로 정하는 사택을 제공받아 얻는 이익\\n\\n자. 법령ㆍ조례에 따른 위원회 등의 보수를 받지 아니하는 위원(학술원 및 예술원의 회원을 포함한다) 등이 받는 수당\\n\\n[전문개정 2009. 12. 31.]\\n\\n\\n\\n제13조 삭제 <2009. 12. 31.>\\n\\n\\n\\n제2절 과세표준과 세액의 계산 <개정 2009. 12. 31.>\\n\\n\\n\\n제1관 세액계산 통칙 <개정 2009. 12. 31.>\\n\\n\\n\\n제14조(과세표준의 계산) ① 거주자의 종합소득 및 퇴직소득에 대한 과세표준은 각각 구분하여 계산한다.\\n\\n② 종합소득에 대한 과세표준(이하 “종합소득과세표준”이라 한다)은 제16조, 제17조, 제19조, 제20조, 제20조의3, 제21조, 제24조부터 제26조까지, 제27조부터 제29조까지, 제31조부터 제35조까지, 제37조, 제39조, 제41조부터 제46조까지, 제46조의2, 제47조 및 제47조의2에 따라 계산한 이자소득금액, 배당소득금액, 사업소득금액, 근로소득금액, 연금소득금액 및 기타소득금액의 합계액(이하 “종합소득금액”이라 한다)에서 제50조, 제51조, 제51조의3, 제51조의4 및 제52조에 따른 공제(이하 “종합소득공제”라 한다)를 적용한 금액으로 한다.<개정 2013. 1. 1., 2014. 1. 1.>\\n\\n③ 다음 각 호에 따른 소득의 금액은 종합소득과세표준을 계산할 때 합산하지 아니한다.<개정 2010. 12. 27., 2011. 7. 14., 2013. 1. 1., 2014. 12. 23., 2015. 12. 15., 2017. 12. 19., 2018. 12. 31., 2019. 12. 31., 2020. 12. 29., 2023. 12. 31.>\\n\\n1. 「조세특례제한법」 또는 이 법 제12조에 따라 과세되지 아니하는 소득\\n\\n2. 대통령령으로 정하는 일용근로자(이하 “일용근로자”라 한다)의 근로소득\\n\\n3. 제129조제2항의 세율에 따라 원천징수하는 이자소득 및 배당소득과 제16조제1항제10호에 따른 직장공제회 초과반환금'),\n",
       " Document(id='65f3f5f1-3535-429d-80ab-e0155a89bba7', metadata={'source': './tax.docx'}, page_content='소득세법\\n\\n소득세법\\n\\n[시행 2025. 7. 1.] [법률 제20615호, 2024. 12. 31., 일부개정]\\n\\n기획재정부(재산세제과(양도소득세)) 044-215-4312\\n\\n기획재정부(소득세제과(근로소득)) 044-215-4216\\n\\n기획재정부(금융세제과(이자소득, 배당소득)) 044-215-4233\\n\\n기획재정부(소득세제과(사업소득, 기타소득)) 044-215-4217\\n\\n\\n\\n제1장 총칙 <개정 2009. 12. 31.>\\n\\n\\n\\n제1조(목적) 이 법은 개인의 소득에 대하여 소득의 성격과 납세자의 부담능력 등에 따라 적정하게 과세함으로써 조세부담의 형평을 도모하고 재정수입의 원활한 조달에 이바지함을 목적으로 한다.\\n\\n[본조신설 2009. 12. 31.]\\n\\n[종전 제1조는 제2조로 이동 <2009. 12. 31.>]\\n\\n\\n\\n제1조의2(정의) ① 이 법에서 사용하는 용어의 뜻은 다음과 같다. <개정 2010. 12. 27., 2014. 12. 23., 2018. 12. 31.>\\n\\n1. “거주자”란 국내에 주소를 두거나 183일 이상의 거소(居所)를 둔 개인을 말한다.\\n\\n2. “비거주자”란 거주자가 아닌 개인을 말한다.\\n\\n3. “내국법인”이란 「법인세법」 제2조제1호에 따른 내국법인을 말한다.\\n\\n4. “외국법인”이란 「법인세법」 제2조제3호에 따른 외국법인을 말한다.\\n\\n5. “사업자”란 사업소득이 있는 거주자를 말한다.\\n\\n② 제1항에 따른 주소ㆍ거소와 거주자ㆍ비거주자의 구분은 대통령령으로 정한다.\\n\\n[본조신설 2009. 12. 31.]\\n\\n\\n\\n제2조(납세의무) ① 다음 각 호의 어느 하나에 해당하는 개인은 이 법에 따라 각자의 소득에 대한 소득세를 납부할 의무를 진다.\\n\\n1. 거주자\\n\\n2. 비거주자로서 국내원천소득(國內源泉所得)이 있는 개인\\n\\n② 다음 각 호의 어느 하나에 해당하는 자는 이 법에 따라 원천징수한 소득세를 납부할 의무를 진다.\\n\\n1. 거주자\\n\\n2. 비거주자\\n\\n3. 내국법인\\n\\n4. 외국법인의 국내지점 또는 국내영업소(출장소, 그 밖에 이에 준하는 것을 포함한다. 이하 같다)\\n\\n5. 그 밖에 이 법에서 정하는 원천징수의무자\\n\\n③ 「국세기본법」 제13조제1항에 따른 법인 아닌 단체 중 같은 조 제4항에 따른 법인으로 보는 단체(이하 “법인으로 보는 단체”라 한다) 외의 법인 아닌 단체는 국내에 주사무소 또는 사업의 실질적 관리장소를 둔 경우에는 1거주자로, 그 밖의 경우에는 1비거주자로 보아 이 법을 적용한다. 다만, 다음 각 호의 어느 하나에 해당하는 경우에는 소득구분에 따라 해당 단체의 각 구성원별로 이 법 또는 「법인세법」에 따라 소득에 대한 소득세 또는 법인세[해당 구성원이 「법인세법」에 따른 법인(법인으로 보는 단체를 포함한다)인 경우로 한정한다. 이하 이 조에서 같다]를 납부할 의무를 진다.<개정 2010. 12. 27., 2013. 1. 1., 2018. 12. 31.>\\n\\n1. 구성원 간 이익의 분배비율이 정하여져 있고 해당 구성원별로 이익의 분배비율이 확인되는 경우')]"
      ]
     },
     "execution_count": 16,
     "metadata": {},
     "output_type": "execute_result"
    }
   ],
   "source": [
    "query = \"5000만원인 세금 알려줘\"\n",
    "retreived_docs = database.similarity_search(query)"
   ]
  },
  {
   "cell_type": "code",
   "execution_count": 7,
   "id": "6cb1f679",
   "metadata": {},
   "outputs": [],
   "source": [
    "from langchain_openai import ChatOpenAI\n",
    "\n",
    "llm = ChatOpenAI(model='gpt-4o')\n",
    "\n",
    "prompt = f\"\"\"[Identity]\n",
    "- 당신은 최고의 한국 소득세 전문가 입니다\n",
    "- [Context]를 참고해서 사용자의 질문에 답변해주세요\n",
    "\n",
    "[Context]\n",
    "{retreived_docs}\n",
    "\n",
    "Question: {query}\n",
    "\"\"\"\n",
    "\n",
    "ai_message = llm.invoke(prompt)"
   ]
  },
  {
   "cell_type": "code",
   "execution_count": 8,
   "id": "d1683495",
   "metadata": {},
   "outputs": [
    {
     "name": "stdout",
     "output_type": "stream",
     "text": [
      "content='귀하의 질문은 세금과 관련된 금액이나 상황을 구체적으로 설명하지 않기 때문에 정확한 답변을 제공하기 어렵습니다. 일반적으로 한국 소득세를 계산하려면 소득 유형(예: 근로소득, 사업소득, 기타소득 등), 공제 항목(예: 기부금, 보험료 등), 그리고 소득세율을 포함한 다양한 정보가 필요합니다.\\n\\n5000만원의 소득세 금액을 알려달라는 요청으로 이해하면, 이는 과세표준에 따라 다르며, 공제 항목 및 세율에 따라 달라질 수 있습니다. 예를 들어, 종합소득세율은 과세표준에 따라 6%에서 45%까지 적용되며, 기본공제 및 추가공제를 통해 과세표준이 달라질 수 있습니다.\\n\\n보다 구체적인 답변을 원하시면 소득의 유형, 과세표준, 적용되는 공제 등을 포함하여 추가 정보를 제공해 주시기 바랍니다. 그러면 보다 정확한 정보를 제공해드리도록 하겠습니다.' additional_kwargs={'refusal': None} response_metadata={'token_usage': {'completion_tokens': 234, 'prompt_tokens': 4152, 'total_tokens': 4386, 'completion_tokens_details': {'accepted_prediction_tokens': 0, 'audio_tokens': 0, 'reasoning_tokens': 0, 'rejected_prediction_tokens': 0}, 'prompt_tokens_details': {'audio_tokens': 0, 'cached_tokens': 0}}, 'model_name': 'gpt-4o-2024-08-06', 'system_fingerprint': 'fp_a288987b44', 'id': 'chatcmpl-BzdO8FpKAQMQ4VZc5rOFtvqORzTBs', 'service_tier': 'default', 'finish_reason': 'stop', 'logprobs': None} id='run--3ebc83a1-ae38-4d23-a97e-46ebfbdfc800-0' usage_metadata={'input_tokens': 4152, 'output_tokens': 234, 'total_tokens': 4386, 'input_token_details': {'audio': 0, 'cache_read': 0}, 'output_token_details': {'audio': 0, 'reasoning': 0}}\n"
     ]
    }
   ],
   "source": [
    "print(ai_message)"
   ]
  },
  {
   "cell_type": "code",
   "execution_count": null,
   "id": "04d6e65f",
   "metadata": {},
   "outputs": [],
   "source": []
  },
  {
   "cell_type": "code",
   "execution_count": 9,
   "id": "a46e2aae",
   "metadata": {},
   "outputs": [
    {
     "name": "stderr",
     "output_type": "stream",
     "text": [
      "/Users/kimjunhwan/inflearn-llm/.venv/lib/python3.13/site-packages/langsmith/client.py:272: LangSmithMissingAPIKeyWarning: API key must be provided when using hosted LangSmith API\n",
      "  warnings.warn(\n"
     ]
    }
   ],
   "source": [
    "from langchain import hub\n",
    "\n",
    "prompt = hub.pull(\"rlm/rag-prompt\")"
   ]
  },
  {
   "cell_type": "code",
   "execution_count": 10,
   "id": "d058e136",
   "metadata": {},
   "outputs": [],
   "source": [
    "from langchain_core.prompts import ChatPromptTemplate\n",
    "from langchain.chains import RetrievalQA\n",
    "\n",
    "rag_prompt = ChatPromptTemplate.from_messages([\n",
    "    ('human', '''You are an assistant for question-answering tasks. Use the following pieces of retrieved context to answer the question. If you don't know the answer, just say that you don't know. Use three sentences maximum and keep the answer concise.\n",
    "                Question: {question} \n",
    "                Context: {context} \n",
    "                Answer:''')\n",
    "])\n",
    "\n",
    "qa_chain = RetrievalQA.from_chain_type(\n",
    "    llm=llm,\n",
    "    retriever=database.as_retriever(),\n",
    "    chain_type_kwargs={\"prompt\": rag_prompt}\n",
    ")"
   ]
  },
  {
   "cell_type": "code",
   "execution_count": 11,
   "id": "d8929869",
   "metadata": {},
   "outputs": [
    {
     "name": "stderr",
     "output_type": "stream",
     "text": [
      "/var/folders/jh/2xkmnd7x5w5_dpbfyzb8y1bw0000gn/T/ipykernel_7812/3455095564.py:1: LangChainDeprecationWarning: The method `Chain.__call__` was deprecated in langchain 0.1.0 and will be removed in 1.0. Use :meth:`~invoke` instead.\n",
      "  ai_message = qa_chain({\"query\": query})\n"
     ]
    }
   ],
   "source": [
    "ai_message = qa_chain({\"query\": query})"
   ]
  },
  {
   "cell_type": "code",
   "execution_count": 12,
   "id": "b0a27884",
   "metadata": {},
   "outputs": [
    {
     "name": "stdout",
     "output_type": "stream",
     "text": [
      "{'query': '5000만원인 세금 알려줘', 'result': '죄송합니다. 제공된 문맥에서는 5000만원의 세금에 대한 정보를 찾을 수 없습니다. 자세한 세금 계산은 세무 전문가에게 문의하시기 바랍니다.'}\n"
     ]
    }
   ],
   "source": [
    "print(ai_message)"
   ]
  }
 ],
 "metadata": {
  "kernelspec": {
   "display_name": ".venv (3.13.2)",
   "language": "python",
   "name": "python3"
  },
  "language_info": {
   "codemirror_mode": {
    "name": "ipython",
    "version": 3
   },
   "file_extension": ".py",
   "mimetype": "text/x-python",
   "name": "python",
   "nbconvert_exporter": "python",
   "pygments_lexer": "ipython3",
   "version": "3.13.2"
  }
 },
 "nbformat": 4,
 "nbformat_minor": 5
}
